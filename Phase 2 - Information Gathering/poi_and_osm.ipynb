{
 "cells": [
  {
   "cell_type": "code",
   "execution_count": 15,
   "metadata": {},
   "outputs": [
    {
     "name": "stdout",
     "output_type": "stream",
     "text": [
      "Requirement already satisfied: geopy in /Library/Frameworks/Python.framework/Versions/3.11/lib/python3.11/site-packages (2.4.1)\n",
      "Requirement already satisfied: geographiclib<3,>=1.52 in /Library/Frameworks/Python.framework/Versions/3.11/lib/python3.11/site-packages (from geopy) (2.0)\n",
      "\n",
      "\u001b[1m[\u001b[0m\u001b[34;49mnotice\u001b[0m\u001b[1;39;49m]\u001b[0m\u001b[39;49m A new release of pip is available: \u001b[0m\u001b[31;49m23.3.1\u001b[0m\u001b[39;49m -> \u001b[0m\u001b[32;49m24.3.1\u001b[0m\n",
      "\u001b[1m[\u001b[0m\u001b[34;49mnotice\u001b[0m\u001b[1;39;49m]\u001b[0m\u001b[39;49m To update, run: \u001b[0m\u001b[32;49mpip3 install --upgrade pip\u001b[0m\n",
      "Note: you may need to restart the kernel to use updated packages.\n"
     ]
    }
   ],
   "source": [
    "pip install geopy"
   ]
  },
  {
   "cell_type": "code",
   "execution_count": 12,
   "metadata": {},
   "outputs": [
    {
     "data": {
      "application/vnd.jupyter.widget-view+json": {
       "model_id": "84d4b95e07774d7684928cb1197a8e93",
       "version_major": 2,
       "version_minor": 0
      },
      "text/plain": [
       "  0%|          | 0/2893 [00:00<?, ?it/s]"
      ]
     },
     "metadata": {},
     "output_type": "display_data"
    },
    {
     "name": "stdout",
     "output_type": "stream",
     "text": [
      "                                                  id   latitude  longitude  \\\n",
      "0  it.trentour.domains.core.PointOfInterest.52af1...  46.144100  11.118600   \n",
      "1  it.trentour.domains.core.PointOfInterest.52af1...  46.083546  11.174873   \n",
      "2  it.trentour.domains.core.PointOfInterest.529ef...  46.428959  11.695014   \n",
      "3  it.trentour.domains.core.PointOfInterest.529ef...  46.328877  11.601681   \n",
      "4  it.trentour.domains.core.PointOfInterest.529ef...  46.393068  11.799665   \n",
      "\n",
      "                           name         type      osm_id  \n",
      "0  MASO FRANCH GOURMET E RELAIS        hotel  1219539037  \n",
      "1               MASO CANTANGHEL   ristorante  1178258840  \n",
      "2           Ski Stadium «Aloch»  impiantosci    27217071  \n",
      "3    Stadio del Salto «Dal Ben»  stadiosalto    26821697  \n",
      "4          Passo San Pellegrino  impiantosci  1223552917  \n"
     ]
    }
   ],
   "source": [
    "# import pyarrow.parquet as pq\n",
    "import pandas as pd\n",
    "import json\n",
    "from geopy.geocoders import Nominatim\n",
    "from tqdm.auto import tqdm\n",
    "\n",
    "geolocator = Nominatim(user_agent=\"gtfs_processor\", timeout=2000)\n",
    "\n",
    "with open('poi.json') as fp:\n",
    "    data = json.load(fp)\n",
    "\n",
    "# df = pd.read_json('poi.json')\n",
    "# df\n",
    "\n",
    "df = []\n",
    "for item in tqdm(data):\n",
    "\n",
    "    latitude = item['content']['poiData']['location']['coordinate']['latitude']\n",
    "    longitude = item['content']['poiData']['location']['coordinate']['longitude']\n",
    "\n",
    "    location = geolocator.reverse((latitude, longitude), exactly_one=True)\n",
    "    \n",
    "    if location and 'osm_id' in location.raw:\n",
    "        osm_id =location.raw['osm_id']\n",
    "    else:\n",
    "        osm_id = 'na'\n",
    "    \n",
    "    new_json_data = {\n",
    "        \"id\": item['_id'],\n",
    "        \"latitude\": latitude,\n",
    "        \"longitude\": longitude,\n",
    "        \"name\": item['content']['objData']['name']['IT'],\n",
    "        \"type\": item['content']['objData']['category'],\n",
    "        \"osm_id\": osm_id,\n",
    "    }\n",
    "    df.append(new_json_data)\n",
    "    \n",
    "df = pd.DataFrame(df).to_csv('poi_and_osm.csv', index=False)\n",
    "\n",
    "newdf = pd.read_csv('poi_and_osm.csv')\n",
    "\n",
    "print(newdf.head())"
   ]
  },
  {
   "cell_type": "code",
   "execution_count": null,
   "metadata": {},
   "outputs": [],
   "source": []
  }
 ],
 "metadata": {
  "kernelspec": {
   "display_name": "Python 3 (ipykernel)",
   "language": "python",
   "name": "python3"
  },
  "language_info": {
   "codemirror_mode": {
    "name": "ipython",
    "version": 3
   },
   "file_extension": ".py",
   "mimetype": "text/x-python",
   "name": "python",
   "nbconvert_exporter": "python",
   "pygments_lexer": "ipython3",
   "version": "3.11.5"
  }
 },
 "nbformat": 4,
 "nbformat_minor": 4
}
