{
 "cells": [
  {
   "cell_type": "code",
   "execution_count": 15,
   "metadata": {},
   "outputs": [
    {
     "name": "stdout",
     "output_type": "stream",
     "text": [
      "Requirement already satisfied: geopy in /Library/Frameworks/Python.framework/Versions/3.11/lib/python3.11/site-packages (2.4.1)\n",
      "Requirement already satisfied: geographiclib<3,>=1.52 in /Library/Frameworks/Python.framework/Versions/3.11/lib/python3.11/site-packages (from geopy) (2.0)\n",
      "\n",
      "\u001b[1m[\u001b[0m\u001b[34;49mnotice\u001b[0m\u001b[1;39;49m]\u001b[0m\u001b[39;49m A new release of pip is available: \u001b[0m\u001b[31;49m23.3.1\u001b[0m\u001b[39;49m -> \u001b[0m\u001b[32;49m24.3.1\u001b[0m\n",
      "\u001b[1m[\u001b[0m\u001b[34;49mnotice\u001b[0m\u001b[1;39;49m]\u001b[0m\u001b[39;49m To update, run: \u001b[0m\u001b[32;49mpip3 install --upgrade pip\u001b[0m\n",
      "Note: you may need to restart the kernel to use updated packages.\n"
     ]
    }
   ],
   "source": [
    "pip install geopy"
   ]
  },
  {
   "cell_type": "code",
   "execution_count": 79,
   "metadata": {},
   "outputs": [
    {
     "data": {
      "application/vnd.jupyter.widget-view+json": {
       "model_id": "f60c10de3aaf4043a77a22bf9076ba67",
       "version_major": 2,
       "version_minor": 0
      },
      "text/plain": [
       "  0%|          | 0/77 [00:00<?, ?it/s]"
      ]
     },
     "metadata": {},
     "output_type": "display_data"
    },
    {
     "name": "stdout",
     "output_type": "stream",
     "text": [
      "     latitude   longitude                                               name  \\\n",
      "50  46.067655   11.149313     Povo 2, Dipartimento di Ingegneria Industriale   \n",
      "51  46.066658   11.119793       Dipartimento di Sociologia e Ricerca Sociale   \n",
      "52  46.067040   11.138900  Dipartimento di Ingegneria Civile, Ambientale ...   \n",
      "53   8.043931  126.063627     Agusan Del Sur State University - Trento Annex   \n",
      "54  46.069701   11.121070                      Biblioteca Comunale di Trento   \n",
      "\n",
      "          type       osm_id  \n",
      "50  university  11726705877  \n",
      "51  university    930522309  \n",
      "52  university   7699915777  \n",
      "53  university   1016831603  \n",
      "54     library   1181361605  \n"
     ]
    }
   ],
   "source": [
    "import pandas as pd\n",
    "import json\n",
    "from geopy.geocoders import Nominatim\n",
    "from tqdm.auto import tqdm\n",
    "import overpy\n",
    "\n",
    "\n",
    "api = overpy.Overpass()\n",
    "\n",
    "geolocator = Nominatim(user_agent=\"gtfs_processor\", timeout=2000)\n",
    "\n",
    "with open('university_osm.json') as fp:\n",
    "    data = json.load(fp)\n",
    "\n",
    "# df = pd.read_json('poi.json')\n",
    "data\n",
    "\n",
    "df = []\n",
    "for item in tqdm(data['elements']):\n",
    "\n",
    "    new_json_data = {}\n",
    "    if item['type']  == 'node':\n",
    "    \n",
    "        \n",
    "        location = geolocator.reverse((item['lat'], item['lon']), exactly_one=True)\n",
    "        if location and 'osm_id' in location.raw:\n",
    "            osm_id =location.raw['osm_id']\n",
    "        else:\n",
    "            osm_id = 'na'\n",
    "        \n",
    "        new_json_data = {\n",
    "            \"latitude\": item['lat'],\n",
    "            \"longitude\": item['lon'],\n",
    "            \"name\": item['tags']['name'],\n",
    "            \"type\": item['tags']['amenity'],\n",
    "            \"osm_id\": osm_id,\n",
    "        }\n",
    "        df.append(new_json_data)\n",
    "\n",
    "    \n",
    "    else:\n",
    "        if 'nodes' in item:\n",
    "            if 'name' in item['tags']:\n",
    "                node_id = item['nodes'][0]\n",
    "                query = f\"\"\"\n",
    "                [out:json];\n",
    "                node({node_id});\n",
    "                out body;\n",
    "                \"\"\"\n",
    "                result = api.query(quer\n",
    "                                   y)\n",
    "                node = result.nodes[0]\n",
    "\n",
    "                \n",
    "                latitude = float(node.lat)\n",
    "                longitude = float(node.lon)\n",
    "                \n",
    "                location = geolocator.reverse((latitude, longitude), exactly_one=True)\n",
    "                if location and 'osm_id' in location.raw:\n",
    "                    osm_id =location.raw['osm_id']\n",
    "                else:\n",
    "                    osm_id = 'na'\n",
    "                    \n",
    "                if 'amenity' in item['tags']:\n",
    "                    type = item['tags']['amenity']\n",
    "                elif 'building' in item['tags']:\n",
    "                    type = item['tags']['building']\n",
    "                else:\n",
    "                    type = 'university'\n",
    "                    \n",
    "                name = ''\n",
    "                if 'alt_name' in item['tags']:\n",
    "                    name = \", \".join([item['tags']['alt_name'], item['tags']['name']])\n",
    "                else:\n",
    "                    name = item['tags']['name']\n",
    "                    \n",
    "                new_json_data = {\n",
    "                    \"latitude\": node.lat,\n",
    "                    \"longitude\": node.lon,\n",
    "                    \"name\": name,\n",
    "                    \"type\": type,\n",
    "                    \"osm_id\": osm_id,\n",
    "                }\n",
    "                df.append(new_json_data)\n",
    "\n",
    "df = pd.DataFrame(df)\n",
    "df\n",
    "\n",
    "df = pd.DataFrame(df).to_csv('poi_and_osm_university.csv', index=False)\n",
    "\n",
    "newdf = pd.read_csv('poi_and_osm_university.csv')\n",
    "\n",
    "print(newdf.tail())"
   ]
  },
  {
   "cell_type": "code",
   "execution_count": 80,
   "metadata": {},
   "outputs": [
    {
     "name": "stdout",
     "output_type": "stream",
     "text": [
      "     latitude   longitude                                               name  \\\n",
      "50  46.067655   11.149313     Povo 2, Dipartimento di Ingegneria Industriale   \n",
      "51  46.066658   11.119793       Dipartimento di Sociologia e Ricerca Sociale   \n",
      "52  46.067040   11.138900  Dipartimento di Ingegneria Civile, Ambientale ...   \n",
      "53   8.043931  126.063627     Agusan Del Sur State University - Trento Annex   \n",
      "54  46.069701   11.121070                      Biblioteca Comunale di Trento   \n",
      "\n",
      "          type       osm_id  \n",
      "50  university  11726705877  \n",
      "51  university    930522309  \n",
      "52  university   7699915777  \n",
      "53  university   1016831603  \n",
      "54     library   1181361605  \n"
     ]
    }
   ],
   "source": [
    "\n",
    "newdf = pd.read_csv('poi_and_osm_lib.csv')\n",
    "print(newdf.tail())"
   ]
  },
  {
   "cell_type": "code",
   "execution_count": null,
   "metadata": {},
   "outputs": [],
   "source": [
    "\n",
    "# df1 = pd.read_csv('poi_and_osm.csv')\n",
    "# df1 = df1.drop(columns=['id'])\n",
    "# df1 = pd.DataFrame(df1).to_csv('poi_and_osm_new.csv', index=False)\n",
    "# df1 = pd.read_csv('poi_and_osm_new.csv')\n",
    "# print(df1.head())"
   ]
  },
  {
   "cell_type": "code",
   "execution_count": 4,
   "metadata": {},
   "outputs": [],
   "source": [
    "import pandas as pd\n",
    "\n",
    "df = pd.read_csv('poi_and_osm_full.csv')  \n",
    "\n",
    "column_to_move = 'osm_id'\n",
    "\n",
    "columns = [column_to_move] + [col for col in df.columns if col != column_to_move]\n",
    "df = df[columns]\n",
    "\n",
    "df.to_csv('poi_and_osm_full_1.csv', index=False)\n"
   ]
  },
  {
   "cell_type": "code",
   "execution_count": null,
   "metadata": {
    "scrolled": true
   },
   "outputs": [],
   "source": [
    "\n",
    "def convert_value(value):\n",
    "    \n",
    "    try:\n",
    "        if '.' in value:\n",
    "            return float(value)\n",
    "        elif len(value) > 10:\n",
    "                return value\n",
    "        else:\n",
    "            return int(value)\n",
    "    except ValueError:\n",
    "        return value \n",
    "\n",
    "def csv_to_json(csv_file, json_file):\n",
    "    \n",
    "    with open(csv_file, mode='r') as f:\n",
    "        reader = csv.DictReader(f)\n",
    "        rows = []\n",
    "        for row in reader:\n",
    "            converted_row = {key: convert_value(value) for key, value in row.items()}\n",
    "            rows.append(converted_row)\n",
    "\n",
    "    with open(json_file, mode='w') as f:\n",
    "        json.dump(rows, f, indent=4)\n",
    "\n",
    "csv_file = \"../auxilary datas/poi_and_osm_full.csv\"\n",
    "json_file = \"../auxilary datas/poi_and_osm_full1.json\"\n",
    "csv_to_json(csv_file, json_file)\n"
   ]
  },
  {
   "cell_type": "code",
   "execution_count": null,
   "metadata": {},
   "outputs": [],
   "source": [
    "# Pizzeria - pizzeria\n",
    "\n",
    "# gelateria - gelateria-pasticceria\n",
    "# restaurant - ristorante\n",
    "\n",
    "# Biblioteca - biblioteca\n",
    "# library - biblioteca\n",
    "\n",
    "# Bar - bar\n",
    "# Birreria / Pub birreria\n",
    "\n",
    "# Supermercato/minimarket - supermercato\n",
    "\n",
    "# Farmacia - farmacia\n",
    "\n",
    "# teatro/opera/cinema - cinema\n",
    "\n",
    "# appartamentovacanze - appartamento\n",
    "\n",
    "# appartamenti vacanze - appartamento\n",
    "\n",
    "# wifi - internet-point\n",
    "# student_accommodation - student-accommodation\n",
    "\n",
    "# university - university-facility\n",
    "\n",
    "# fast_food - fast-food"
   ]
  }
 ],
 "metadata": {
  "kernelspec": {
   "display_name": "Python 3 (ipykernel)",
   "language": "python",
   "name": "python3"
  },
  "language_info": {
   "codemirror_mode": {
    "name": "ipython",
    "version": 3
   },
   "file_extension": ".py",
   "mimetype": "text/x-python",
   "name": "python",
   "nbconvert_exporter": "python",
   "pygments_lexer": "ipython3",
   "version": "3.11.5"
  }
 },
 "nbformat": 4,
 "nbformat_minor": 4
}
