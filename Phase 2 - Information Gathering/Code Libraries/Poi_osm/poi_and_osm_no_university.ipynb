{
 "cells": [
  {
   "cell_type": "code",
   "execution_count": 15,
   "metadata": {},
   "outputs": [
    {
     "name": "stdout",
     "output_type": "stream",
     "text": [
      "Requirement already satisfied: geopy in /Library/Frameworks/Python.framework/Versions/3.11/lib/python3.11/site-packages (2.4.1)\n",
      "Requirement already satisfied: geographiclib<3,>=1.52 in /Library/Frameworks/Python.framework/Versions/3.11/lib/python3.11/site-packages (from geopy) (2.0)\n",
      "\n",
      "\u001b[1m[\u001b[0m\u001b[34;49mnotice\u001b[0m\u001b[1;39;49m]\u001b[0m\u001b[39;49m A new release of pip is available: \u001b[0m\u001b[31;49m23.3.1\u001b[0m\u001b[39;49m -> \u001b[0m\u001b[32;49m24.3.1\u001b[0m\n",
      "\u001b[1m[\u001b[0m\u001b[34;49mnotice\u001b[0m\u001b[1;39;49m]\u001b[0m\u001b[39;49m To update, run: \u001b[0m\u001b[32;49mpip3 install --upgrade pip\u001b[0m\n",
      "Note: you may need to restart the kernel to use updated packages.\n"
     ]
    }
   ],
   "source": [
    "pip install geopy"
   ]
  },
  {
   "cell_type": "code",
   "execution_count": null,
   "metadata": {},
   "outputs": [
    {
     "data": {
      "application/vnd.jupyter.widget-view+json": {
       "model_id": "84d4b95e07774d7684928cb1197a8e93",
       "version_major": 2,
       "version_minor": 0
      },
      "text/plain": [
       "  0%|          | 0/2893 [00:00<?, ?it/s]"
      ]
     },
     "metadata": {},
     "output_type": "display_data"
    },
    {
     "name": "stdout",
     "output_type": "stream",
     "text": [
      "                                                  id   latitude  longitude  \\\n",
      "0  it.trentour.domains.core.PointOfInterest.52af1...  46.144100  11.118600   \n",
      "1  it.trentour.domains.core.PointOfInterest.52af1...  46.083546  11.174873   \n",
      "2  it.trentour.domains.core.PointOfInterest.529ef...  46.428959  11.695014   \n",
      "3  it.trentour.domains.core.PointOfInterest.529ef...  46.328877  11.601681   \n",
      "4  it.trentour.domains.core.PointOfInterest.529ef...  46.393068  11.799665   \n",
      "\n",
      "                           name         type      osm_id  \n",
      "0  MASO FRANCH GOURMET E RELAIS        hotel  1219539037  \n",
      "1               MASO CANTANGHEL   ristorante  1178258840  \n",
      "2           Ski Stadium «Aloch»  impiantosci    27217071  \n",
      "3    Stadio del Salto «Dal Ben»  stadiosalto    26821697  \n",
      "4          Passo San Pellegrino  impiantosci  1223552917  \n"
     ]
    }
   ],
   "source": [
    "# import pyarrow.parquet as pq\n",
    "import pandas as pd\n",
    "import json\n",
    "from geopy.geocoders import Nominatim\n",
    "from tqdm.auto import tqdm\n",
    "\n",
    "geolocator = Nominatim(user_agent=\"gtfs_processor\", timeout=2000)\n",
    "\n",
    "with open('poi.json') as fp:\n",
    "    data = json.load(fp)\n",
    "\n",
    "# df = pd.read_json('poi.json')\n",
    "# df\n",
    "\n",
    "df = []\n",
    "for item in tqdm(data):\n",
    "\n",
    "    latitude = item['content']['poiData']['location']['coordinate']['latitude']\n",
    "    longitude = item['content']['poiData']['location']['coordinate']['longitude']\n",
    "\n",
    "    location = geolocator.reverse((latitude, longitude), exactly_one=True)\n",
    "    \n",
    "    if location and 'osm_id' in location.raw:\n",
    "        osm_id =location.raw['osm_id']\n",
    "    else:\n",
    "        osm_id = 'na'\n",
    "    \n",
    "    new_json_data = {\n",
    "        # \"id\": item['_id'],\n",
    "        \"latitude\": latitude,\n",
    "        \"longitude\": longitude,\n",
    "        \"name\": item['content']['objData']['name']['IT'],\n",
    "        \"type\": item['content']['objData']['category'],\n",
    "        \"osm_id\": osm_id,\n",
    "    }\n",
    "    df.append(new_json_data)\n",
    "    \n",
    "df = pd.DataFrame(df).to_csv('poi_and_osm.csv', index=False)\n",
    "\n",
    "newdf = pd.read_csv('poi_and_osm.csv')\n",
    "\n",
    "print(newdf.head())"
   ]
  },
  {
   "cell_type": "code",
   "execution_count": 3,
   "metadata": {},
   "outputs": [
    {
     "ename": "FileNotFoundError",
     "evalue": "[Errno 2] No such file or directory: 'export.geojson'",
     "output_type": "error",
     "traceback": [
      "\u001b[0;31m---------------------------------------------------------------------------\u001b[0m",
      "\u001b[0;31mFileNotFoundError\u001b[0m                         Traceback (most recent call last)",
      "Cell \u001b[0;32mIn[3], line 9\u001b[0m\n\u001b[1;32m      5\u001b[0m \u001b[38;5;28;01mfrom\u001b[39;00m \u001b[38;5;21;01mtqdm\u001b[39;00m\u001b[38;5;21;01m.\u001b[39;00m\u001b[38;5;21;01mauto\u001b[39;00m \u001b[38;5;28;01mimport\u001b[39;00m tqdm\n\u001b[1;32m      7\u001b[0m \u001b[38;5;66;03m# geolocator = Nominatim(user_agent=\"gtfs_processor\", timeout=2000)\u001b[39;00m\n\u001b[0;32m----> 9\u001b[0m \u001b[38;5;28;01mwith\u001b[39;00m \u001b[38;5;28;43mopen\u001b[39;49m\u001b[43m(\u001b[49m\u001b[38;5;124;43m'\u001b[39;49m\u001b[38;5;124;43mexport.geojson\u001b[39;49m\u001b[38;5;124;43m'\u001b[39;49m\u001b[43m)\u001b[49m \u001b[38;5;28;01mas\u001b[39;00m fp:\n\u001b[1;32m     10\u001b[0m     data \u001b[38;5;241m=\u001b[39m json\u001b[38;5;241m.\u001b[39mload(fp)\n\u001b[1;32m     12\u001b[0m \u001b[38;5;66;03m# df = pd.read_json('poi.json')\u001b[39;00m\n",
      "File \u001b[0;32m/Library/Frameworks/Python.framework/Versions/3.11/lib/python3.11/site-packages/IPython/core/interactiveshell.py:310\u001b[0m, in \u001b[0;36m_modified_open\u001b[0;34m(file, *args, **kwargs)\u001b[0m\n\u001b[1;32m    303\u001b[0m \u001b[38;5;28;01mif\u001b[39;00m file \u001b[38;5;129;01min\u001b[39;00m {\u001b[38;5;241m0\u001b[39m, \u001b[38;5;241m1\u001b[39m, \u001b[38;5;241m2\u001b[39m}:\n\u001b[1;32m    304\u001b[0m     \u001b[38;5;28;01mraise\u001b[39;00m \u001b[38;5;167;01mValueError\u001b[39;00m(\n\u001b[1;32m    305\u001b[0m         \u001b[38;5;124mf\u001b[39m\u001b[38;5;124m\"\u001b[39m\u001b[38;5;124mIPython won\u001b[39m\u001b[38;5;124m'\u001b[39m\u001b[38;5;124mt let you open fd=\u001b[39m\u001b[38;5;132;01m{\u001b[39;00mfile\u001b[38;5;132;01m}\u001b[39;00m\u001b[38;5;124m by default \u001b[39m\u001b[38;5;124m\"\u001b[39m\n\u001b[1;32m    306\u001b[0m         \u001b[38;5;124m\"\u001b[39m\u001b[38;5;124mas it is likely to crash IPython. If you know what you are doing, \u001b[39m\u001b[38;5;124m\"\u001b[39m\n\u001b[1;32m    307\u001b[0m         \u001b[38;5;124m\"\u001b[39m\u001b[38;5;124myou can use builtins\u001b[39m\u001b[38;5;124m'\u001b[39m\u001b[38;5;124m open.\u001b[39m\u001b[38;5;124m\"\u001b[39m\n\u001b[1;32m    308\u001b[0m     )\n\u001b[0;32m--> 310\u001b[0m \u001b[38;5;28;01mreturn\u001b[39;00m \u001b[43mio_open\u001b[49m\u001b[43m(\u001b[49m\u001b[43mfile\u001b[49m\u001b[43m,\u001b[49m\u001b[43m \u001b[49m\u001b[38;5;241;43m*\u001b[39;49m\u001b[43margs\u001b[49m\u001b[43m,\u001b[49m\u001b[43m \u001b[49m\u001b[38;5;241;43m*\u001b[39;49m\u001b[38;5;241;43m*\u001b[39;49m\u001b[43mkwargs\u001b[49m\u001b[43m)\u001b[49m\n",
      "\u001b[0;31mFileNotFoundError\u001b[0m: [Errno 2] No such file or directory: 'export.geojson'"
     ]
    }
   ],
   "source": [
    "# import pyarrow.parquet as pq\n",
    "import pandas as pd\n",
    "import json\n",
    "from geopy.geocoders import Nominatim\n",
    "from tqdm.auto import tqdm\n",
    "\n",
    "# geolocator = Nominatim(user_agent=\"gtfs_processor\", timeout=2000)\n",
    "\n",
    "with open('export.geojson') as fp:\n",
    "    data = json.load(fp)\n",
    "\n",
    "# df = pd.read_json('poi.json')\n",
    "data\n",
    "\n",
    "# df = []\n",
    "# for item in tqdm(data):\n",
    "\n",
    "#     latitude = item['content']['poiData']['location']['coordinate']['latitude']\n",
    "#     longitude = item['content']['poiData']['location']['coordinate']['longitude']\n",
    "\n",
    "#     # location = geolocator.reverse((latitude, longitude), exactly_one=True)\n",
    "    \n",
    "#     if location and 'osm_id' in location.raw:\n",
    "#         osm_id =location.raw['osm_id']\n",
    "#     else:\n",
    "#         osm_id = 'na'\n",
    "    \n",
    "#     new_json_data = {\n",
    "#         \"id\": item['_id'],\n",
    "#         \"latitude\": latitude,\n",
    "#         \"longitude\": longitude,\n",
    "#         \"name\": item['content']['objData']['name']['IT'],\n",
    "#         \"type\": item['content']['objData']['category'],\n",
    "#         \"osm_id\": osm_id,\n",
    "#     }\n",
    "#     df.append(new_json_data)\n",
    "    \n",
    "# df = pd.DataFrame(df).to_csv('poi_and_osm.csv', index=False)\n",
    "\n",
    "# newdf = pd.read_csv('poi_and_osm.csv')\n",
    "\n",
    "# print(newdf.head())"
   ]
  },
  {
   "cell_type": "code",
   "execution_count": null,
   "metadata": {},
   "outputs": [],
   "source": []
  }
 ],
 "metadata": {
  "kernelspec": {
   "display_name": "Python 3 (ipykernel)",
   "language": "python",
   "name": "python3"
  },
  "language_info": {
   "codemirror_mode": {
    "name": "ipython",
    "version": 3
   },
   "file_extension": ".py",
   "mimetype": "text/x-python",
   "name": "python",
   "nbconvert_exporter": "python",
   "pygments_lexer": "ipython3",
   "version": "3.11.5"
  }
 },
 "nbformat": 4,
 "nbformat_minor": 4
}
